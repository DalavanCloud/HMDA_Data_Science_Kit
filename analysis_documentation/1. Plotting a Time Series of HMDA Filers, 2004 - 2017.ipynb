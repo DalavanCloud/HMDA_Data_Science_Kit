{
 "cells": [
  {
   "cell_type": "markdown",
   "metadata": {},
   "source": [
    "# 1. Introduction: Plotting a Time Series of HMDA Filers, 2004 - 2017  \n",
    "\n",
    "In order to produce this table, we would need information from each transmittal sheet. This notebook demonstrates how to pull counts and activity year from each transmittal sheet using SQL, transform SQL output into a dataframe using a Python library, Pandas, and display data using a Python library, Matplotlib. It also describes the method of analysis that may be used throughout the repository.\n",
    "\n",
    "First, we can pull counts from each file using SQL. Once LAR, TS, and Panel data are loaded into a local database, you would be able to connect to that database from a Jupyter notebook, using a Python library called Pyscopg2.\n",
    "\n",
    "First, we can import the packages we would need:"
   ]
  },
  {
   "cell_type": "code",
   "execution_count": 112,
   "metadata": {},
   "outputs": [],
   "source": [
    "import psycopg2 #Imports the Psycopg2 library\n",
    "import pandas as pd #Imports the Pandas library and renames it \"pd\"\n",
    "import numpy as np #Imports the Numpy library and renames it \"np\"\n",
    "import matplotlib.pyplot as plt #imports the Matplot library and renames it \"plt\""
   ]
  },
  {
   "cell_type": "markdown",
   "metadata": {},
   "source": [
    "Next, we can define a function that connects to our local database of SQL tables using psycopg2.  You may need to change the 'user' parameter below to the name of your user directory. "
   ]
  },
  {
   "cell_type": "code",
   "execution_count": 120,
   "metadata": {},
   "outputs": [],
   "source": [
    "def connect():\n",
    "    params = { #Defining the parameters to pull from a local database.\n",
    "    'dbname':'hmda', #Calls the database you would use. \n",
    "    'user':'fureym', #Change to your user directory. \n",
    "    'password':'',\n",
    "    'host':'localhost',}\n",
    "    #connect_string = \"dbname=%s user=%s host=%s password =%s\" %(dbname, user, host, password) #set a string for connection to SQL\n",
    "    try:\n",
    "        conn = psycopg2.connect(**params)\n",
    "        #print(\"I'm connected\")\n",
    "        #return conn.cursor(cursor_factory=psycopg2.extras.DictCursor) #return a dictionary cursor object\n",
    "        return conn.cursor()\n",
    "    except psycopg2.Error as e: #if database connection results in an error print the following\n",
    "        print(\"I am unable to connect to the database: \", e)"
   ]
  },
  {
   "cell_type": "markdown",
   "metadata": {},
   "source": [
    "We can then test to see if the function is working. If you are not connected to the database, running the function will produce a \"I am unable to connect to the database\" statement. You may be able to uncomment the 'print(\"I'm connected\")' statement above to know that you are connected to the database. "
   ]
  },
  {
   "cell_type": "code",
   "execution_count": 121,
   "metadata": {},
   "outputs": [
    {
     "data": {
      "text/plain": [
       "<cursor object at 0x118c51be8; closed: 0>"
      ]
     },
     "execution_count": 121,
     "metadata": {},
     "output_type": "execute_result"
    }
   ],
   "source": [
    "connect()"
   ]
  },
  {
   "cell_type": "markdown",
   "metadata": {},
   "source": [
    "The load scripts in this repository created a local \"hmda\" database with a set of tables in a \"hmda_public\" repository. The LAR, TS, and Panel sheets are loaded into the hmda_public repository with a \"lar_year,\" \"ts_year,\" or \"panel_year\" naming convention. \n",
    "\n",
    "Now, we can pull a count from each transmittal sheet table in your hmda_public repository. Place a SQL statement into a multi-line string and save it to a variable. The statement below selects the activity year and the count of rows from the 2017 transmittal sheet, grouping counts by activity year. "
   ]
  },
  {
   "cell_type": "code",
   "execution_count": 115,
   "metadata": {},
   "outputs": [],
   "source": [
    "sql = \"\"\"SELECT \n",
    "\tactivity_year, \n",
    "\tCOUNT (*) \n",
    "FROM \n",
    "\thmda_public.ts_2017 \n",
    "GROUP BY \n",
    "\tactivity_year;\"\"\""
   ]
  },
  {
   "cell_type": "markdown",
   "metadata": {},
   "source": [
    "This next line of code pulls output from your local database to satisfy the SQL query, and then generates a dictionary of values. Once it creates this dictionary, we can create an empty list called \"analysis_list\" in which we place the dictionary. This list may then be transformed into a dataframe of output called \"analysis_df.\" Notice that you may be able to change the column headings to what may best correspond to your SQL output.  "
   ]
  },
  {
   "cell_type": "code",
   "execution_count": 122,
   "metadata": {},
   "outputs": [
    {
     "data": {
      "text/html": [
       "<div>\n",
       "<style scoped>\n",
       "    .dataframe tbody tr th:only-of-type {\n",
       "        vertical-align: middle;\n",
       "    }\n",
       "\n",
       "    .dataframe tbody tr th {\n",
       "        vertical-align: top;\n",
       "    }\n",
       "\n",
       "    .dataframe thead th {\n",
       "        text-align: right;\n",
       "    }\n",
       "</style>\n",
       "<table border=\"1\" class=\"dataframe\">\n",
       "  <thead>\n",
       "    <tr style=\"text-align: right;\">\n",
       "      <th></th>\n",
       "      <th>activity_year</th>\n",
       "      <th>ts_count</th>\n",
       "    </tr>\n",
       "  </thead>\n",
       "  <tbody>\n",
       "    <tr>\n",
       "      <th>0</th>\n",
       "      <td>2017</td>\n",
       "      <td>5852</td>\n",
       "    </tr>\n",
       "  </tbody>\n",
       "</table>\n",
       "</div>"
      ],
      "text/plain": [
       "  activity_year  ts_count\n",
       "0          2017      5852"
      ]
     },
     "execution_count": 122,
     "metadata": {},
     "output_type": "execute_result"
    }
   ],
   "source": [
    "analysis_list = [] #Creates an empty list to be transformed into a dataframe. \n",
    "\n",
    "cur = connect() #Calls the connect function to access the database. \n",
    "\n",
    "cur.execute(sql) #Uses the SQL statement to pull output from the database. \n",
    "\n",
    "data = cur.fetchall() #Saves the output to a variable called \"data.\"\n",
    "\n",
    "#The following creates a dictionary with the data variable.\n",
    "#It assigns the first output to \"activity year.\"\n",
    "#It assigns the second output to \"ts_count.\"  \n",
    "data_dict = {\"activity_year\": data[0][0],\n",
    "            \"ts_count\":data[0][1]} \n",
    "\n",
    "#Takes the dictionary you created and appends the dictionary to the analysis_list.\n",
    "analysis_list.append(data_dict)\n",
    "\n",
    "#The list is then transformed into a Pandas dataframe, using the pd.DataFrame function.\n",
    "#This dataframe is called \"analysis_df\"\n",
    "analysis_df = pd.DataFrame(analysis_list)\n",
    "\n",
    "#Displays the top 10 rows of the dataframe.  \n",
    "analysis_df.head(10)"
   ]
  },
  {
   "cell_type": "markdown",
   "metadata": {},
   "source": [
    "We can obtain multiple years of counts by using a loop and a list of years. Let's first modify the SQL statement so that the year of the sheet is replaced with {year}. This allows the year in the SQL statement to be interchanged with a year in a list. "
   ]
  },
  {
   "cell_type": "code",
   "execution_count": 123,
   "metadata": {},
   "outputs": [],
   "source": [
    "sql2 = \"\"\"SELECT \n",
    "\tactivity_year, \n",
    "\tCOUNT (*) \n",
    "FROM \n",
    "\thmda_public.ts_{year} \n",
    "GROUP BY \n",
    "\tactivity_year;\"\"\""
   ]
  },
  {
   "cell_type": "markdown",
   "metadata": {},
   "source": [
    "We will then use a loop to obtain counts from a certain set of years we would like, and add the line \"sql2.format(year = date)\" to replace the bracketed item in the SQL statement with each date. "
   ]
  },
  {
   "cell_type": "code",
   "execution_count": 124,
   "metadata": {},
   "outputs": [
    {
     "data": {
      "text/html": [
       "<div>\n",
       "<style scoped>\n",
       "    .dataframe tbody tr th:only-of-type {\n",
       "        vertical-align: middle;\n",
       "    }\n",
       "\n",
       "    .dataframe tbody tr th {\n",
       "        vertical-align: top;\n",
       "    }\n",
       "\n",
       "    .dataframe thead th {\n",
       "        text-align: right;\n",
       "    }\n",
       "</style>\n",
       "<table border=\"1\" class=\"dataframe\">\n",
       "  <thead>\n",
       "    <tr style=\"text-align: right;\">\n",
       "      <th></th>\n",
       "      <th>activity_year</th>\n",
       "      <th>ts_count</th>\n",
       "    </tr>\n",
       "  </thead>\n",
       "  <tbody>\n",
       "    <tr>\n",
       "      <th>0</th>\n",
       "      <td>2016</td>\n",
       "      <td>6762</td>\n",
       "    </tr>\n",
       "    <tr>\n",
       "      <th>1</th>\n",
       "      <td>2016</td>\n",
       "      <td>6762</td>\n",
       "    </tr>\n",
       "  </tbody>\n",
       "</table>\n",
       "</div>"
      ],
      "text/plain": [
       "  activity_year  ts_count\n",
       "0          2016      6762\n",
       "1          2016      6762"
      ]
     },
     "execution_count": 124,
     "metadata": {},
     "output_type": "execute_result"
    }
   ],
   "source": [
    "analysis_list = []\n",
    "years = [2016, 2017]\n",
    "for year in years:\n",
    "    sql2 =sql2.format(year = year)\n",
    "    cur = connect()\n",
    "    cur.execute(sql2)\n",
    "    data = cur.fetchall()\n",
    "    data_dict2 = {\"activity_year\": data[0][0], \n",
    "                  \"ts_count\":data[0][1]}\n",
    "    analysis_list.append(data_dict2)\n",
    "analysis_df = pd.DataFrame(analysis_list)\n",
    "analysis_df.head()\n",
    "    \n",
    "\n",
    "\n",
    "    "
   ]
  },
  {
   "cell_type": "markdown",
   "metadata": {},
   "source": [
    "You may notice that the loop permanently replaces \"year\" in the SQL statement with the first year in the list. At this point, it may be best to place this statement in a SQL file. Placing the statement in a file allows for the format function to iterate without permanently changing the base of the SQL statement with the first input from your iterable list. \n",
    "\n",
    "You can create your own SQL file with the command above or use the file included in this repository, \"sql_commands/filer_count_time_series.sql.\" The code below reads in each line of the SQL statement and replaces \"year\" with each date in your \"years\" list. "
   ]
  },
  {
   "cell_type": "code",
   "execution_count": 34,
   "metadata": {},
   "outputs": [
    {
     "name": "stdout",
     "output_type": "stream",
     "text": [
      "I'm connected\n",
      "I'm connected\n"
     ]
    },
    {
     "data": {
      "text/html": [
       "<div>\n",
       "<style scoped>\n",
       "    .dataframe tbody tr th:only-of-type {\n",
       "        vertical-align: middle;\n",
       "    }\n",
       "\n",
       "    .dataframe tbody tr th {\n",
       "        vertical-align: top;\n",
       "    }\n",
       "\n",
       "    .dataframe thead th {\n",
       "        text-align: right;\n",
       "    }\n",
       "</style>\n",
       "<table border=\"1\" class=\"dataframe\">\n",
       "  <thead>\n",
       "    <tr style=\"text-align: right;\">\n",
       "      <th></th>\n",
       "      <th>activity_year</th>\n",
       "      <th>ts_count</th>\n",
       "    </tr>\n",
       "  </thead>\n",
       "  <tbody>\n",
       "    <tr>\n",
       "      <th>0</th>\n",
       "      <td>2016</td>\n",
       "      <td>6762</td>\n",
       "    </tr>\n",
       "    <tr>\n",
       "      <th>1</th>\n",
       "      <td>2017</td>\n",
       "      <td>5852</td>\n",
       "    </tr>\n",
       "  </tbody>\n",
       "</table>\n",
       "</div>"
      ],
      "text/plain": [
       "  activity_year  ts_count\n",
       "0          2016      6762\n",
       "1          2017      5852"
      ]
     },
     "execution_count": 34,
     "metadata": {},
     "output_type": "execute_result"
    }
   ],
   "source": [
    "analysis_list = []\n",
    "years = [2016, 2017] #List of years for the counts. \n",
    "sql = 'sql_commands/filer_count_time_series.sql' #Calls the SQL command and saves it to \"sql\"\n",
    "for year in years: #Begins a loop that iterates through the list of years we wish to use. \n",
    "    sql_base = \"\"\n",
    "# Inside the loop, the following set of code reads each line.\n",
    "# It replaces year with the year in the list, and saves the new command as sql_base. \n",
    "    with open(sql) as in_sql: \n",
    "        for line in in_sql.readlines():\n",
    "            sql_base = sql_base + line.strip(\"\\n\")\n",
    "            sql_base=sql_base.format(year=year)\n",
    "    cur = connect()\n",
    "    cur.execute(sql_base)\n",
    "    data = cur.fetchall()\n",
    "    data_dict = {\"activity_year\": data[0][0],\n",
    "                \"ts_count\":data[0][1]}\n",
    "    analysis_list.append(data_dict)\n",
    "analysis_df = pd.DataFrame(analysis_list)\n",
    "analysis_df.head()\n",
    "\n",
    "    "
   ]
  },
  {
   "cell_type": "markdown",
   "metadata": {},
   "source": [
    "Now, we can iterate over the years we would like using this methodology. To make this simple, we may want to place the code above in a function that passes in a sql_command file, a start-year, and an end-year (so we don't have to write out a list of years), and produces a dataframe of output. Let's try this function below, by adding in some code that creates a list of years. We will set as default our parameters for producing a time series of filers between 2004 and 2017.\n",
    "\n",
    "We will also change the column names to \"Year\" and \"Filers,\" and use the \"loc\" function to reorder the columns. "
   ]
  },
  {
   "cell_type": "code",
   "execution_count": 117,
   "metadata": {},
   "outputs": [],
   "source": [
    "def time_series(sql = 'sql_commands/filer_count_time_series.sql', start = 2004, end = 2017):\n",
    "    \"\"\"This function produces a time series analysis.\n",
    "    It passes in a sql_command file, a start-year, \n",
    "    and an end-year to produce a dataframe of output.\"\"\"\n",
    "    #The following \n",
    "    years = list(range(start, (end+1)))\n",
    "    analysis_list = []\n",
    "    for year in years:\n",
    "        sql_base = \"\"\n",
    "        with open(sql) as in_sql:\n",
    "            for line in in_sql.readlines():\n",
    "                sql_base = sql_base + line.strip(\"\\n\")\n",
    "                sql_base=sql_base.format(year=year)\n",
    "        cur = connect()\n",
    "        cur.execute(sql_base)\n",
    "        data = cur.fetchall()\n",
    "        data_dict = {\"Year\": data[0][0],\n",
    "                    \"Filers\":data[0][1]}\n",
    "        analysis_list.append(data_dict)\n",
    "    analysis_df = pd.DataFrame(analysis_list)\n",
    "    analysis_df = analysis_df.loc[:, ['Year', 'Filers']] #Reorders the columns so that year is first. \n",
    "    #The function returns a dataframe of output. \n",
    "    return analysis_df.head(30)\n",
    "\n"
   ]
  },
  {
   "cell_type": "markdown",
   "metadata": {},
   "source": [
    "We can call the time_series function below which should produce a time series of the number of HMDA filers between 2004 and 2017, based on transmittal sheet data. We can save the output as a pipe-delimited csv file. This file would be saved in the analysis_output/data folder. "
   ]
  },
  {
   "cell_type": "code",
   "execution_count": 88,
   "metadata": {},
   "outputs": [
    {
     "name": "stdout",
     "output_type": "stream",
     "text": [
      "I'm connected\n",
      "I'm connected\n",
      "I'm connected\n",
      "I'm connected\n",
      "I'm connected\n",
      "I'm connected\n",
      "I'm connected\n",
      "I'm connected\n",
      "I'm connected\n",
      "I'm connected\n",
      "I'm connected\n",
      "I'm connected\n",
      "I'm connected\n",
      "I'm connected\n",
      "I'm connected\n",
      "I'm connected\n",
      "I'm connected\n",
      "I'm connected\n",
      "I'm connected\n",
      "I'm connected\n",
      "I'm connected\n",
      "I'm connected\n",
      "I'm connected\n",
      "I'm connected\n",
      "I'm connected\n",
      "I'm connected\n",
      "I'm connected\n",
      "I'm connected\n"
     ]
    },
    {
     "data": {
      "text/html": [
       "<div>\n",
       "<style scoped>\n",
       "    .dataframe tbody tr th:only-of-type {\n",
       "        vertical-align: middle;\n",
       "    }\n",
       "\n",
       "    .dataframe tbody tr th {\n",
       "        vertical-align: top;\n",
       "    }\n",
       "\n",
       "    .dataframe thead th {\n",
       "        text-align: right;\n",
       "    }\n",
       "</style>\n",
       "<table border=\"1\" class=\"dataframe\">\n",
       "  <thead>\n",
       "    <tr style=\"text-align: right;\">\n",
       "      <th></th>\n",
       "      <th>Year</th>\n",
       "      <th>Filers</th>\n",
       "    </tr>\n",
       "  </thead>\n",
       "  <tbody>\n",
       "    <tr>\n",
       "      <th>0</th>\n",
       "      <td>2004</td>\n",
       "      <td>8871</td>\n",
       "    </tr>\n",
       "    <tr>\n",
       "      <th>1</th>\n",
       "      <td>2005</td>\n",
       "      <td>8873</td>\n",
       "    </tr>\n",
       "    <tr>\n",
       "      <th>2</th>\n",
       "      <td>2006</td>\n",
       "      <td>8902</td>\n",
       "    </tr>\n",
       "    <tr>\n",
       "      <th>3</th>\n",
       "      <td>2007</td>\n",
       "      <td>8636</td>\n",
       "    </tr>\n",
       "    <tr>\n",
       "      <th>4</th>\n",
       "      <td>2008</td>\n",
       "      <td>8422</td>\n",
       "    </tr>\n",
       "    <tr>\n",
       "      <th>5</th>\n",
       "      <td>2009</td>\n",
       "      <td>8151</td>\n",
       "    </tr>\n",
       "    <tr>\n",
       "      <th>6</th>\n",
       "      <td>2010</td>\n",
       "      <td>7952</td>\n",
       "    </tr>\n",
       "    <tr>\n",
       "      <th>7</th>\n",
       "      <td>2011</td>\n",
       "      <td>7676</td>\n",
       "    </tr>\n",
       "    <tr>\n",
       "      <th>8</th>\n",
       "      <td>2012</td>\n",
       "      <td>7435</td>\n",
       "    </tr>\n",
       "    <tr>\n",
       "      <th>9</th>\n",
       "      <td>2013</td>\n",
       "      <td>7214</td>\n",
       "    </tr>\n",
       "    <tr>\n",
       "      <th>10</th>\n",
       "      <td>2014</td>\n",
       "      <td>7062</td>\n",
       "    </tr>\n",
       "    <tr>\n",
       "      <th>11</th>\n",
       "      <td>2015</td>\n",
       "      <td>6913</td>\n",
       "    </tr>\n",
       "    <tr>\n",
       "      <th>12</th>\n",
       "      <td>2016</td>\n",
       "      <td>6762</td>\n",
       "    </tr>\n",
       "    <tr>\n",
       "      <th>13</th>\n",
       "      <td>2017</td>\n",
       "      <td>5852</td>\n",
       "    </tr>\n",
       "  </tbody>\n",
       "</table>\n",
       "</div>"
      ],
      "text/plain": [
       "    Year  Filers\n",
       "0   2004    8871\n",
       "1   2005    8873\n",
       "2   2006    8902\n",
       "3   2007    8636\n",
       "4   2008    8422\n",
       "5   2009    8151\n",
       "6   2010    7952\n",
       "7   2011    7676\n",
       "8   2012    7435\n",
       "9   2013    7214\n",
       "10  2014    7062\n",
       "11  2015    6913\n",
       "12  2016    6762\n",
       "13  2017    5852"
      ]
     },
     "execution_count": 88,
     "metadata": {},
     "output_type": "execute_result"
    }
   ],
   "source": [
    "time_series().to_csv('analysis_output/data/filer_count_time_series.csv', sep = \"|\")\n",
    "time_series()"
   ]
  },
  {
   "cell_type": "markdown",
   "metadata": {},
   "source": [
    "Next, we can try a visualization. Using Matplotlib, we can make a bar chart that plots years across the x axis and filers across the y axis. We can also set the color of the bar chart, a title, a x-axis label, and a y-axis label. We will also rotate the dates so that they do not crowd the x axis, and save the image as a png file in our analysis_output/charts folder."
   ]
  },
  {
   "cell_type": "code",
   "execution_count": 118,
   "metadata": {},
   "outputs": [
    {
     "name": "stdout",
     "output_type": "stream",
     "text": [
      "I'm connected\n",
      "I'm connected\n",
      "I'm connected\n",
      "I'm connected\n",
      "I'm connected\n",
      "I'm connected\n",
      "I'm connected\n",
      "I'm connected\n",
      "I'm connected\n",
      "I'm connected\n",
      "I'm connected\n",
      "I'm connected\n",
      "I'm connected\n",
      "I'm connected\n",
      "I'm connected\n",
      "I'm connected\n",
      "I'm connected\n",
      "I'm connected\n",
      "I'm connected\n",
      "I'm connected\n",
      "I'm connected\n",
      "I'm connected\n",
      "I'm connected\n",
      "I'm connected\n",
      "I'm connected\n",
      "I'm connected\n",
      "I'm connected\n",
      "I'm connected\n"
     ]
    },
    {
     "data": {
      "image/png": "[encoded data removed]",
      "text/plain": [
       "<Figure size 432x288 with 1 Axes>"
      ]
     },
     "metadata": {
      "needs_background": "light"
     },
     "output_type": "display_data"
    }
   ],
   "source": [
    "x = time_series()['Year'] #Uses the year column from the time_series data frame as x. \n",
    "y = time_series()['Filers'] #Uses the count of filers from the time_series data frame as y.\n",
    "fig = plt.figure() \n",
    "plt.bar(x, y, color = 'blue') #Creates a bar chart using x and y, setting the color as blue. \n",
    "plt.title(\"Number of HMDA Filers, 2004-2017\") #Set title of the chart. \n",
    "plt.ylabel(\"Filers\") #Set y-axis label. \n",
    "plt.xlabel(\"Year\") #Set x-axis label\n",
    "plt.yticks=([])\n",
    "plt.xticks(x, x, rotation='45') #Setting x-tick labels to 45 degrees. \n",
    "fig.savefig('analysis_output/charts/filer_count_time_series.png') #Saving output to a png file. "
   ]
  },
  {
   "cell_type": "code",
   "execution_count": null,
   "metadata": {},
   "outputs": [],
   "source": []
  }
 ],
 "metadata": {
  "kernelspec": {
   "display_name": "Python 3",
   "language": "python",
   "name": "python3"
  },
  "language_info": {
   "codemirror_mode": {
    "name": "ipython",
    "version": 3
   },
   "file_extension": ".py",
   "mimetype": "text/x-python",
   "name": "python",
   "nbconvert_exporter": "python",
   "pygments_lexer": "ipython3",
   "version": "3.7.0"
  }
 },
 "nbformat": 4,
 "nbformat_minor": 2
}
